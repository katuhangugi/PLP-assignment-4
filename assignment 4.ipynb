{
 "cells": [
  {
   "cell_type": "code",
   "execution_count": 7,
   "id": "f2a19bf3-bccc-40e7-8771-db60c1ef2c81",
   "metadata": {},
   "outputs": [
    {
     "name": "stdout",
     "output_type": "stream",
     "text": [
      "File 'C:\\Users\\Ngugi\\Desktop\\GUI\\GUI\\modified.txt' has been successfully processed.\n",
      "Modified content has been written to 'modified_output.txt'.\n"
     ]
    }
   ],
   "source": [
    "def modify_and_write_file(input_filename, output_filename):\n",
    "    \"\"\"\n",
    "    Reads a file, modifies its content, and writes it to a new file.\n",
    "    \n",
    "    Parameters:\n",
    "    input_filename (str): The name of the file to read from.\n",
    "    output_filename (str): The name of the file to write to.\n",
    "    \"\"\"\n",
    "    try:\n",
    "        # Open the input file in read mode\n",
    "        with open(input_filename, 'r') as input_file:\n",
    "            content = input_file.read()\n",
    "        \n",
    "        # Modify the content (convert to uppercase)\n",
    "        modified_content = content.upper()\n",
    "        \n",
    "        # Write the modified content to the output file\n",
    "        with open(output_filename, 'w') as output_file:\n",
    "            output_file.write(modified_content)\n",
    "        \n",
    "        print(f\"File '{input_filename}' has been successfully processed.\")\n",
    "        print(f\"Modified content has been written to '{output_filename}'.\")\n",
    "    \n",
    "    except FileNotFoundError:\n",
    "        print(f\"Error: The file '{input_filename}' does not exist.\")\n",
    "    except PermissionError:\n",
    "        print(f\"Error: You do not have permission to read or write the file.\")\n",
    "    except Exception as e:\n",
    "        print(f\"An unexpected error occurred: {e}\")\n",
    "\n",
    "\n",
    "def main():\n",
    "    \"\"\"\n",
    "    Main function to handle file processing.\n",
    "    \"\"\"\n",
    "    # Define the input and output filenames\n",
    "    input_filename = r\"C:\\Users\\Ngugi\\Desktop\\GUI\\GUI\\modified.txt\"  # Use raw string for Windows paths\n",
    "    output_filename = \"modified_output.txt\"\n",
    "    \n",
    "    # Call the function to process the file\n",
    "    modify_and_write_file(input_filename, output_filename)\n",
    "\n",
    "\n",
    "# Run the program\n",
    "if __name__ == \"__main__\":\n",
    "    main()"
   ]
  },
  {
   "cell_type": "code",
   "execution_count": null,
   "id": "eade6137-8fea-47f0-b65c-b759665a9d17",
   "metadata": {},
   "outputs": [],
   "source": []
  }
 ],
 "metadata": {
  "kernelspec": {
   "display_name": "Python 3 (ipykernel)",
   "language": "python",
   "name": "python3"
  },
  "language_info": {
   "codemirror_mode": {
    "name": "ipython",
    "version": 3
   },
   "file_extension": ".py",
   "mimetype": "text/x-python",
   "name": "python",
   "nbconvert_exporter": "python",
   "pygments_lexer": "ipython3",
   "version": "3.12.7"
  }
 },
 "nbformat": 4,
 "nbformat_minor": 5
}
